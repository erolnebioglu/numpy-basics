{
 "cells": [
  {
   "cell_type": "code",
   "execution_count": 2,
   "id": "36a4cba4",
   "metadata": {},
   "outputs": [],
   "source": [
    "import numpy as np"
   ]
  },
  {
   "cell_type": "code",
   "execution_count": 3,
   "id": "082d658c",
   "metadata": {},
   "outputs": [],
   "source": [
    "myArray = np.arange(0,15)"
   ]
  },
  {
   "cell_type": "code",
   "execution_count": 4,
   "id": "a1c77c3b",
   "metadata": {},
   "outputs": [
    {
     "data": {
      "text/plain": [
       "array([ 0,  1,  2,  3,  4,  5,  6,  7,  8,  9, 10, 11, 12, 13, 14])"
      ]
     },
     "execution_count": 4,
     "metadata": {},
     "output_type": "execute_result"
    }
   ],
   "source": [
    "myArray"
   ]
  },
  {
   "cell_type": "code",
   "execution_count": 5,
   "id": "14adfa8c",
   "metadata": {},
   "outputs": [
    {
     "data": {
      "text/plain": [
       "5"
      ]
     },
     "execution_count": 5,
     "metadata": {},
     "output_type": "execute_result"
    }
   ],
   "source": [
    "myArray[5]"
   ]
  },
  {
   "cell_type": "code",
   "execution_count": 7,
   "id": "90852737",
   "metadata": {},
   "outputs": [
    {
     "data": {
      "text/plain": [
       "array([3, 4])"
      ]
     },
     "execution_count": 7,
     "metadata": {},
     "output_type": "execute_result"
    }
   ],
   "source": [
    "myArray[3:5]"
   ]
  },
  {
   "cell_type": "code",
   "execution_count": 8,
   "id": "49f8896d",
   "metadata": {},
   "outputs": [
    {
     "data": {
      "text/plain": [
       "array([ 3,  4,  5,  6,  7,  8,  9, 10, 11, 12, 13, 14])"
      ]
     },
     "execution_count": 8,
     "metadata": {},
     "output_type": "execute_result"
    }
   ],
   "source": [
    "myArray[3:]"
   ]
  },
  {
   "cell_type": "code",
   "execution_count": 9,
   "id": "bbfb8686",
   "metadata": {},
   "outputs": [],
   "source": [
    "myArray[2:8]=-5"
   ]
  },
  {
   "cell_type": "code",
   "execution_count": 10,
   "id": "6b4d2e65",
   "metadata": {},
   "outputs": [
    {
     "data": {
      "text/plain": [
       "array([ 0,  1, -5, -5, -5, -5, -5, -5,  8,  9, 10, 11, 12, 13, 14])"
      ]
     },
     "execution_count": 10,
     "metadata": {},
     "output_type": "execute_result"
    }
   ],
   "source": [
    "myArray"
   ]
  },
  {
   "cell_type": "code",
   "execution_count": 11,
   "id": "531106a4",
   "metadata": {},
   "outputs": [],
   "source": [
    "otherArray=np.arange(0,24)"
   ]
  },
  {
   "cell_type": "code",
   "execution_count": 12,
   "id": "4e396d4c",
   "metadata": {},
   "outputs": [
    {
     "data": {
      "text/plain": [
       "array([ 0,  1,  2,  3,  4,  5,  6,  7,  8,  9, 10, 11, 12, 13, 14, 15, 16,\n",
       "       17, 18, 19, 20, 21, 22, 23])"
      ]
     },
     "execution_count": 12,
     "metadata": {},
     "output_type": "execute_result"
    }
   ],
   "source": [
    "otherArray"
   ]
  },
  {
   "cell_type": "code",
   "execution_count": 13,
   "id": "65d548b2",
   "metadata": {},
   "outputs": [
    {
     "data": {
      "text/plain": [
       "array([0, 1, 2, 3, 4])"
      ]
     },
     "execution_count": 13,
     "metadata": {},
     "output_type": "execute_result"
    }
   ],
   "source": [
    "otherArray[0:5]"
   ]
  },
  {
   "cell_type": "code",
   "execution_count": 19,
   "id": "44f263e3",
   "metadata": {},
   "outputs": [],
   "source": [
    "slicingArray = otherArray[5:9]"
   ]
  },
  {
   "cell_type": "code",
   "execution_count": 23,
   "id": "8805fc57",
   "metadata": {},
   "outputs": [],
   "source": [
    "slicingArray[:]=700"
   ]
  },
  {
   "cell_type": "code",
   "execution_count": 22,
   "id": "b254f4fe",
   "metadata": {},
   "outputs": [
    {
     "data": {
      "text/plain": [
       "array([700, 700, 700, 700])"
      ]
     },
     "execution_count": 22,
     "metadata": {},
     "output_type": "execute_result"
    }
   ],
   "source": [
    "slicingArray"
   ]
  },
  {
   "cell_type": "code",
   "execution_count": 24,
   "id": "028d1805",
   "metadata": {},
   "outputs": [
    {
     "data": {
      "text/plain": [
       "array([  0,   1,   2,   3,   4, 700, 700, 700, 700,   9,  10,  11,  12,\n",
       "        13,  14,  15,  16,  17,  18,  19,  20,  21,  22,  23])"
      ]
     },
     "execution_count": 24,
     "metadata": {},
     "output_type": "execute_result"
    }
   ],
   "source": [
    "otherArray"
   ]
  },
  {
   "cell_type": "code",
   "execution_count": 28,
   "id": "d923fa99",
   "metadata": {},
   "outputs": [],
   "source": [
    "theOtherArray = otherArray.copy()"
   ]
  },
  {
   "cell_type": "code",
   "execution_count": 32,
   "id": "7be2696c",
   "metadata": {},
   "outputs": [],
   "source": [
    "theOtherSlicingArray = theOtherArray[9:15]"
   ]
  },
  {
   "cell_type": "code",
   "execution_count": 33,
   "id": "f901c1de",
   "metadata": {},
   "outputs": [
    {
     "data": {
      "text/plain": [
       "array([ 9, 10, 11, 12, 13, 14])"
      ]
     },
     "execution_count": 33,
     "metadata": {},
     "output_type": "execute_result"
    }
   ],
   "source": [
    "theOtherSlicingArray"
   ]
  },
  {
   "cell_type": "code",
   "execution_count": 36,
   "id": "7177bb8d",
   "metadata": {},
   "outputs": [],
   "source": [
    "theOtherSlicingArray[:]=800"
   ]
  },
  {
   "cell_type": "code",
   "execution_count": 37,
   "id": "3effd89e",
   "metadata": {},
   "outputs": [
    {
     "data": {
      "text/plain": [
       "array([800, 800, 800, 800, 800, 800])"
      ]
     },
     "execution_count": 37,
     "metadata": {},
     "output_type": "execute_result"
    }
   ],
   "source": [
    "theOtherSlicingArray"
   ]
  },
  {
   "cell_type": "code",
   "execution_count": 35,
   "id": "ca2fb6c9",
   "metadata": {},
   "outputs": [
    {
     "data": {
      "text/plain": [
       "array([  0,   1,   2,   3,   4, 700, 700, 700, 700,   9,  10,  11,  12,\n",
       "        13,  14,  15,  16,  17,  18,  19,  20,  21,  22,  23])"
      ]
     },
     "execution_count": 35,
     "metadata": {},
     "output_type": "execute_result"
    }
   ],
   "source": [
    "otherArray"
   ]
  },
  {
   "cell_type": "markdown",
   "id": "cc1d30d6",
   "metadata": {},
   "source": [
    "## matrix "
   ]
  },
  {
   "cell_type": "code",
   "execution_count": 38,
   "id": "ae7deceb",
   "metadata": {},
   "outputs": [],
   "source": [
    "myList = [[1,2,3],[4,5,6],[7,8,9]]"
   ]
  },
  {
   "cell_type": "code",
   "execution_count": 39,
   "id": "2465cca6",
   "metadata": {},
   "outputs": [],
   "source": [
    "myMatrix = np.array(myList)"
   ]
  },
  {
   "cell_type": "code",
   "execution_count": 40,
   "id": "4eca9a63",
   "metadata": {},
   "outputs": [
    {
     "data": {
      "text/plain": [
       "array([[1, 2, 3],\n",
       "       [4, 5, 6],\n",
       "       [7, 8, 9]])"
      ]
     },
     "execution_count": 40,
     "metadata": {},
     "output_type": "execute_result"
    }
   ],
   "source": [
    "myMatrix"
   ]
  },
  {
   "cell_type": "code",
   "execution_count": 42,
   "id": "77159a93",
   "metadata": {},
   "outputs": [
    {
     "data": {
      "text/plain": [
       "3"
      ]
     },
     "execution_count": 42,
     "metadata": {},
     "output_type": "execute_result"
    }
   ],
   "source": [
    "myMatrix[0][2]"
   ]
  },
  {
   "cell_type": "code",
   "execution_count": 43,
   "id": "9936499e",
   "metadata": {},
   "outputs": [
    {
     "data": {
      "text/plain": [
       "3"
      ]
     },
     "execution_count": 43,
     "metadata": {},
     "output_type": "execute_result"
    }
   ],
   "source": [
    "myMatrix[0,2]"
   ]
  },
  {
   "cell_type": "code",
   "execution_count": 44,
   "id": "906e3eab",
   "metadata": {},
   "outputs": [
    {
     "data": {
      "text/plain": [
       "array([6, 9])"
      ]
     },
     "execution_count": 44,
     "metadata": {},
     "output_type": "execute_result"
    }
   ],
   "source": [
    "myMatrix[1:,2]"
   ]
  },
  {
   "cell_type": "code",
   "execution_count": 45,
   "id": "45c18ec5",
   "metadata": {},
   "outputs": [
    {
     "data": {
      "text/plain": [
       "array([3, 6, 9])"
      ]
     },
     "execution_count": 45,
     "metadata": {},
     "output_type": "execute_result"
    }
   ],
   "source": [
    "myMatrix[0:,2]"
   ]
  },
  {
   "cell_type": "code",
   "execution_count": 46,
   "id": "f0b6f406",
   "metadata": {},
   "outputs": [
    {
     "data": {
      "text/plain": [
       "array([[5, 6],\n",
       "       [8, 9]])"
      ]
     },
     "execution_count": 46,
     "metadata": {},
     "output_type": "execute_result"
    }
   ],
   "source": [
    "myMatrix[1:,1:]"
   ]
  },
  {
   "cell_type": "code",
   "execution_count": 47,
   "id": "920c25a3",
   "metadata": {},
   "outputs": [],
   "source": [
    "myNewList = [[0,1,2,3,4],[5,6,7,8,9],[10,11,12,13,14],[15,16,17,18,19],[20,21,22,23,24]]"
   ]
  },
  {
   "cell_type": "code",
   "execution_count": 48,
   "id": "a6d00a37",
   "metadata": {},
   "outputs": [
    {
     "data": {
      "text/plain": [
       "[[0, 1, 2, 3, 4],\n",
       " [5, 6, 7, 8, 9],\n",
       " [10, 11, 12, 13, 14],\n",
       " [15, 16, 17, 18, 19],\n",
       " [20, 21, 22, 23, 24]]"
      ]
     },
     "execution_count": 48,
     "metadata": {},
     "output_type": "execute_result"
    }
   ],
   "source": [
    "myNewList"
   ]
  },
  {
   "cell_type": "code",
   "execution_count": 49,
   "id": "1f475026",
   "metadata": {},
   "outputs": [],
   "source": [
    "myNewMatrix = np.array(myNewList)"
   ]
  },
  {
   "cell_type": "code",
   "execution_count": 50,
   "id": "f79bc79f",
   "metadata": {},
   "outputs": [
    {
     "data": {
      "text/plain": [
       "array([[ 0,  1,  2,  3,  4],\n",
       "       [ 5,  6,  7,  8,  9],\n",
       "       [10, 11, 12, 13, 14],\n",
       "       [15, 16, 17, 18, 19],\n",
       "       [20, 21, 22, 23, 24]])"
      ]
     },
     "execution_count": 50,
     "metadata": {},
     "output_type": "execute_result"
    }
   ],
   "source": [
    "myNewMatrix"
   ]
  },
  {
   "cell_type": "code",
   "execution_count": 51,
   "id": "62d49285",
   "metadata": {},
   "outputs": [
    {
     "data": {
      "text/plain": [
       "array([[ 0,  1,  2,  3,  4],\n",
       "       [10, 11, 12, 13, 14],\n",
       "       [20, 21, 22, 23, 24]])"
      ]
     },
     "execution_count": 51,
     "metadata": {},
     "output_type": "execute_result"
    }
   ],
   "source": [
    "myNewMatrix[[0,2,4]]"
   ]
  },
  {
   "cell_type": "markdown",
   "id": "5ca1d2bc",
   "metadata": {},
   "source": [
    "## operations"
   ]
  },
  {
   "cell_type": "code",
   "execution_count": 56,
   "id": "40c1ec63",
   "metadata": {},
   "outputs": [],
   "source": [
    "newArray = np.random.randint(5,100,20)"
   ]
  },
  {
   "cell_type": "code",
   "execution_count": 57,
   "id": "39ed539a",
   "metadata": {},
   "outputs": [
    {
     "data": {
      "text/plain": [
       "array([46, 19, 53, 49, 73, 93, 71, 79, 33, 48,  9, 78, 90, 72, 85, 60,  7,\n",
       "       78, 96, 77])"
      ]
     },
     "execution_count": 57,
     "metadata": {},
     "output_type": "execute_result"
    }
   ],
   "source": [
    "newArray"
   ]
  },
  {
   "cell_type": "code",
   "execution_count": 58,
   "id": "01484010",
   "metadata": {},
   "outputs": [
    {
     "data": {
      "text/plain": [
       "array([ True,  True,  True,  True,  True,  True,  True,  True,  True,\n",
       "        True, False,  True,  True,  True,  True,  True, False,  True,\n",
       "        True,  True])"
      ]
     },
     "execution_count": 58,
     "metadata": {},
     "output_type": "execute_result"
    }
   ],
   "source": [
    "newArray>12"
   ]
  },
  {
   "cell_type": "code",
   "execution_count": 66,
   "id": "d0f5108a",
   "metadata": {},
   "outputs": [],
   "source": [
    " aNewArray = newArray>40"
   ]
  },
  {
   "cell_type": "code",
   "execution_count": 67,
   "id": "5944321d",
   "metadata": {},
   "outputs": [
    {
     "data": {
      "text/plain": [
       "array([ True, False,  True,  True,  True,  True,  True,  True, False,\n",
       "        True, False,  True,  True,  True,  True,  True, False,  True,\n",
       "        True,  True])"
      ]
     },
     "execution_count": 67,
     "metadata": {},
     "output_type": "execute_result"
    }
   ],
   "source": [
    "aNewArray"
   ]
  },
  {
   "cell_type": "code",
   "execution_count": 68,
   "id": "21b8bb2d",
   "metadata": {},
   "outputs": [
    {
     "data": {
      "text/plain": [
       "array([46, 53, 49, 73, 93, 71, 79, 48, 78, 90, 72, 85, 60, 78, 96, 77])"
      ]
     },
     "execution_count": 68,
     "metadata": {},
     "output_type": "execute_result"
    }
   ],
   "source": [
    "newArray[aNewArray]"
   ]
  },
  {
   "cell_type": "code",
   "execution_count": 69,
   "id": "1e547b5b",
   "metadata": {},
   "outputs": [
    {
     "data": {
      "text/plain": [
       "20"
      ]
     },
     "execution_count": 69,
     "metadata": {},
     "output_type": "execute_result"
    }
   ],
   "source": [
    "newArray.size"
   ]
  },
  {
   "cell_type": "code",
   "execution_count": 71,
   "id": "783cf993",
   "metadata": {},
   "outputs": [
    {
     "data": {
      "text/plain": [
       "array([19, 33,  9,  7])"
      ]
     },
     "execution_count": 71,
     "metadata": {},
     "output_type": "execute_result"
    }
   ],
   "source": [
    "newArray[newArray<35]"
   ]
  },
  {
   "cell_type": "code",
   "execution_count": 72,
   "id": "dd46cae0",
   "metadata": {},
   "outputs": [],
   "source": [
    "lastArray = np.arange(0,24)"
   ]
  },
  {
   "cell_type": "code",
   "execution_count": 73,
   "id": "3c69ea57",
   "metadata": {},
   "outputs": [
    {
     "data": {
      "text/plain": [
       "array([ 0,  1,  2,  3,  4,  5,  6,  7,  8,  9, 10, 11, 12, 13, 14, 15, 16,\n",
       "       17, 18, 19, 20, 21, 22, 23])"
      ]
     },
     "execution_count": 73,
     "metadata": {},
     "output_type": "execute_result"
    }
   ],
   "source": [
    "lastArray"
   ]
  },
  {
   "cell_type": "code",
   "execution_count": 74,
   "id": "22363575",
   "metadata": {},
   "outputs": [
    {
     "data": {
      "text/plain": [
       "array([ 0,  2,  4,  6,  8, 10, 12, 14, 16, 18, 20, 22, 24, 26, 28, 30, 32,\n",
       "       34, 36, 38, 40, 42, 44, 46])"
      ]
     },
     "execution_count": 74,
     "metadata": {},
     "output_type": "execute_result"
    }
   ],
   "source": [
    "lastArray+lastArray"
   ]
  },
  {
   "cell_type": "code",
   "execution_count": 76,
   "id": "64a6c42b",
   "metadata": {},
   "outputs": [
    {
     "data": {
      "text/plain": [
       "array([  0,   1,   4,   9,  16,  25,  36,  49,  64,  81, 100, 121, 144,\n",
       "       169, 196, 225, 256, 289, 324, 361, 400, 441, 484, 529])"
      ]
     },
     "execution_count": 76,
     "metadata": {},
     "output_type": "execute_result"
    }
   ],
   "source": [
    "lastArray*lastArray"
   ]
  },
  {
   "cell_type": "code",
   "execution_count": 77,
   "id": "fe662c19",
   "metadata": {},
   "outputs": [
    {
     "data": {
      "text/plain": [
       "array([0, 0, 0, 0, 0, 0, 0, 0, 0, 0, 0, 0, 0, 0, 0, 0, 0, 0, 0, 0, 0, 0,\n",
       "       0, 0])"
      ]
     },
     "execution_count": 77,
     "metadata": {},
     "output_type": "execute_result"
    }
   ],
   "source": [
    "lastArray-lastArray"
   ]
  },
  {
   "cell_type": "code",
   "execution_count": null,
   "id": "f53ac659",
   "metadata": {},
   "outputs": [],
   "source": []
  }
 ],
 "metadata": {
  "kernelspec": {
   "display_name": "Python 3 (ipykernel)",
   "language": "python",
   "name": "python3"
  },
  "language_info": {
   "codemirror_mode": {
    "name": "ipython",
    "version": 3
   },
   "file_extension": ".py",
   "mimetype": "text/x-python",
   "name": "python",
   "nbconvert_exporter": "python",
   "pygments_lexer": "ipython3",
   "version": "3.9.13"
  }
 },
 "nbformat": 4,
 "nbformat_minor": 5
}
