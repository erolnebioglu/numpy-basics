{
 "cells": [
  {
   "cell_type": "code",
   "execution_count": 1,
   "id": "c49809ef",
   "metadata": {},
   "outputs": [],
   "source": [
    "import numpy as np"
   ]
  },
  {
   "cell_type": "markdown",
   "id": "105054b2",
   "metadata": {},
   "source": [
    "## numpy arrays"
   ]
  },
  {
   "cell_type": "code",
   "execution_count": 2,
   "id": "bf1ea86d",
   "metadata": {},
   "outputs": [],
   "source": [
    "myList = [10,20,30]"
   ]
  },
  {
   "cell_type": "code",
   "execution_count": 3,
   "id": "1e465ea9",
   "metadata": {},
   "outputs": [
    {
     "data": {
      "text/plain": [
       "array([10, 20, 30])"
      ]
     },
     "execution_count": 3,
     "metadata": {},
     "output_type": "execute_result"
    }
   ],
   "source": [
    "np.array(myList)"
   ]
  },
  {
   "cell_type": "code",
   "execution_count": 6,
   "id": "9bd68796",
   "metadata": {},
   "outputs": [
    {
     "data": {
      "text/plain": [
       "numpy.ndarray"
      ]
     },
     "execution_count": 6,
     "metadata": {},
     "output_type": "execute_result"
    }
   ],
   "source": [
    "type(np.array(myList))"
   ]
  },
  {
   "cell_type": "markdown",
   "id": "078a9bf7",
   "metadata": {},
   "source": [
    "## arange"
   ]
  },
  {
   "cell_type": "code",
   "execution_count": 7,
   "id": "c427cae1",
   "metadata": {},
   "outputs": [
    {
     "data": {
      "text/plain": [
       "array([0, 1, 2, 3, 4, 5, 6, 7, 8, 9])"
      ]
     },
     "execution_count": 7,
     "metadata": {},
     "output_type": "execute_result"
    }
   ],
   "source": [
    "np.arange(0,10)"
   ]
  },
  {
   "cell_type": "code",
   "execution_count": 8,
   "id": "aace58d1",
   "metadata": {},
   "outputs": [
    {
     "data": {
      "text/plain": [
       "array([10, 12, 14, 16, 18])"
      ]
     },
     "execution_count": 8,
     "metadata": {},
     "output_type": "execute_result"
    }
   ],
   "source": [
    " np.arange(10,20,2)"
   ]
  },
  {
   "cell_type": "markdown",
   "id": "efbe3d9a",
   "metadata": {},
   "source": [
    "## zeros ones"
   ]
  },
  {
   "cell_type": "code",
   "execution_count": 9,
   "id": "703cf490",
   "metadata": {},
   "outputs": [
    {
     "data": {
      "text/plain": [
       "array([0., 0., 0., 0., 0.])"
      ]
     },
     "execution_count": 9,
     "metadata": {},
     "output_type": "execute_result"
    }
   ],
   "source": [
    "np.zeros(5)"
   ]
  },
  {
   "cell_type": "code",
   "execution_count": 10,
   "id": "9166838e",
   "metadata": {},
   "outputs": [
    {
     "data": {
      "text/plain": [
       "array([[0., 0.],\n",
       "       [0., 0.]])"
      ]
     },
     "execution_count": 10,
     "metadata": {},
     "output_type": "execute_result"
    }
   ],
   "source": [
    "np.zeros((2,2))"
   ]
  },
  {
   "cell_type": "code",
   "execution_count": 11,
   "id": "93b23447",
   "metadata": {},
   "outputs": [
    {
     "data": {
      "text/plain": [
       "array([[1., 1., 1., 1., 1.],\n",
       "       [1., 1., 1., 1., 1.],\n",
       "       [1., 1., 1., 1., 1.],\n",
       "       [1., 1., 1., 1., 1.],\n",
       "       [1., 1., 1., 1., 1.]])"
      ]
     },
     "execution_count": 11,
     "metadata": {},
     "output_type": "execute_result"
    }
   ],
   "source": [
    "np.ones((5,5))"
   ]
  },
  {
   "cell_type": "markdown",
   "id": "10828468",
   "metadata": {},
   "source": [
    "## linspace"
   ]
  },
  {
   "cell_type": "code",
   "execution_count": 12,
   "id": "af84bc09",
   "metadata": {},
   "outputs": [
    {
     "data": {
      "text/plain": [
       "array([ 0.,  5., 10., 15., 20.])"
      ]
     },
     "execution_count": 12,
     "metadata": {},
     "output_type": "execute_result"
    }
   ],
   "source": [
    "np.linspace(0,20,5)"
   ]
  },
  {
   "cell_type": "code",
   "execution_count": 13,
   "id": "ea80685a",
   "metadata": {},
   "outputs": [
    {
     "data": {
      "text/plain": [
       "array([ 0., 15., 30.])"
      ]
     },
     "execution_count": 13,
     "metadata": {},
     "output_type": "execute_result"
    }
   ],
   "source": [
    "np.linspace(0,30,3)"
   ]
  },
  {
   "cell_type": "code",
   "execution_count": 14,
   "id": "8507021d",
   "metadata": {},
   "outputs": [
    {
     "data": {
      "text/plain": [
       "array([ 0.        ,  0.68965517,  1.37931034,  2.06896552,  2.75862069,\n",
       "        3.44827586,  4.13793103,  4.82758621,  5.51724138,  6.20689655,\n",
       "        6.89655172,  7.5862069 ,  8.27586207,  8.96551724,  9.65517241,\n",
       "       10.34482759, 11.03448276, 11.72413793, 12.4137931 , 13.10344828,\n",
       "       13.79310345, 14.48275862, 15.17241379, 15.86206897, 16.55172414,\n",
       "       17.24137931, 17.93103448, 18.62068966, 19.31034483, 20.        ])"
      ]
     },
     "execution_count": 14,
     "metadata": {},
     "output_type": "execute_result"
    }
   ],
   "source": [
    "np.linspace(0,20,30)"
   ]
  },
  {
   "cell_type": "markdown",
   "id": "7235f8f6",
   "metadata": {},
   "source": [
    "## eye"
   ]
  },
  {
   "cell_type": "code",
   "execution_count": 15,
   "id": "d37e1e73",
   "metadata": {},
   "outputs": [
    {
     "data": {
      "text/plain": [
       "array([[1., 0., 0.],\n",
       "       [0., 1., 0.],\n",
       "       [0., 0., 1.]])"
      ]
     },
     "execution_count": 15,
     "metadata": {},
     "output_type": "execute_result"
    }
   ],
   "source": [
    "np.eye(3)"
   ]
  },
  {
   "cell_type": "markdown",
   "id": "87c3c707",
   "metadata": {},
   "source": [
    "## random"
   ]
  },
  {
   "cell_type": "code",
   "execution_count": 18,
   "id": "ef8b8102",
   "metadata": {},
   "outputs": [
    {
     "data": {
      "text/plain": [
       "array([ 2.02143488,  0.43107171, -1.97635552,  0.48185694])"
      ]
     },
     "execution_count": 18,
     "metadata": {},
     "output_type": "execute_result"
    }
   ],
   "source": [
    "np.random.randn(4)"
   ]
  },
  {
   "cell_type": "code",
   "execution_count": 19,
   "id": "b7c1dbb1",
   "metadata": {},
   "outputs": [
    {
     "data": {
      "text/plain": [
       "array([[-0.39472348, -0.43381613, -1.09469825, -1.0998021 , -0.29288771,\n",
       "        -1.09207359,  1.84270581,  0.98531089],\n",
       "       [-0.01620246,  1.2128652 , -0.96708353, -0.79300135,  0.87974408,\n",
       "         2.04328037, -0.92629223, -1.56995753],\n",
       "       [-0.91182024, -0.8898934 ,  0.03081465,  0.1274633 ,  1.36333865,\n",
       "        -0.07664486, -1.09610102,  0.16545711],\n",
       "       [-0.12030592,  0.85944453,  3.46431474, -2.26714164, -1.46164643,\n",
       "        -1.23034814,  1.4627438 , -2.04918036],\n",
       "       [ 0.05300387,  0.85067283, -0.44806189, -0.93939467,  2.00889286,\n",
       "         0.48715563, -2.33420131,  0.63833418],\n",
       "       [ 0.22523477, -0.54763028, -0.77557384,  0.00942788, -0.48253253,\n",
       "         0.48008829, -0.0672031 , -0.91148072],\n",
       "       [-0.3957325 ,  0.08211854,  0.67904515,  0.53911002, -0.52165556,\n",
       "        -1.61408492, -1.05397632,  0.93128476],\n",
       "       [ 0.82768948, -1.70971312,  0.46371771, -0.88016759, -1.08520911,\n",
       "        -1.76091931, -0.26749114,  1.05979073]])"
      ]
     },
     "execution_count": 19,
     "metadata": {},
     "output_type": "execute_result"
    }
   ],
   "source": [
    "np.random.randn(8,8)"
   ]
  },
  {
   "cell_type": "code",
   "execution_count": 21,
   "id": "773a367b",
   "metadata": {},
   "outputs": [
    {
     "data": {
      "text/plain": [
       "12"
      ]
     },
     "execution_count": 21,
     "metadata": {},
     "output_type": "execute_result"
    }
   ],
   "source": [
    "np.random.randint(1,20)"
   ]
  },
  {
   "cell_type": "code",
   "execution_count": 22,
   "id": "e2dd723b",
   "metadata": {},
   "outputs": [
    {
     "data": {
      "text/plain": [
       "array([18,  4, 17, 14,  4])"
      ]
     },
     "execution_count": 22,
     "metadata": {},
     "output_type": "execute_result"
    }
   ],
   "source": [
    "np.random.randint(1,20,5)"
   ]
  },
  {
   "cell_type": "markdown",
   "id": "a01c80ae",
   "metadata": {},
   "source": [
    "## numpy array methods"
   ]
  },
  {
   "cell_type": "code",
   "execution_count": 28,
   "id": "3cddf4cf",
   "metadata": {},
   "outputs": [],
   "source": [
    "myNumpyArray = np.arange(0,30)"
   ]
  },
  {
   "cell_type": "code",
   "execution_count": 29,
   "id": "f0e93fd3",
   "metadata": {},
   "outputs": [
    {
     "data": {
      "text/plain": [
       "array([ 0,  1,  2,  3,  4,  5,  6,  7,  8,  9, 10, 11, 12, 13, 14, 15, 16,\n",
       "       17, 18, 19, 20, 21, 22, 23, 24, 25, 26, 27, 28, 29])"
      ]
     },
     "execution_count": 29,
     "metadata": {},
     "output_type": "execute_result"
    }
   ],
   "source": [
    "myNumpyArray"
   ]
  },
  {
   "cell_type": "code",
   "execution_count": 30,
   "id": "b0204cd2",
   "metadata": {},
   "outputs": [],
   "source": [
    "myNumpyRandomArray = np.random.randint(1,100,20)"
   ]
  },
  {
   "cell_type": "code",
   "execution_count": 31,
   "id": "f889bf32",
   "metadata": {},
   "outputs": [
    {
     "data": {
      "text/plain": [
       "array([16, 12, 81, 83, 11, 64, 26,  9, 53, 87,  2, 45, 13, 28, 80,  1, 86,\n",
       "       76, 55, 40])"
      ]
     },
     "execution_count": 31,
     "metadata": {},
     "output_type": "execute_result"
    }
   ],
   "source": [
    "myNumpyRandomArray"
   ]
  },
  {
   "cell_type": "code",
   "execution_count": 33,
   "id": "4aa77472",
   "metadata": {},
   "outputs": [
    {
     "data": {
      "text/plain": [
       "array([[ 0,  1,  2,  3,  4,  5],\n",
       "       [ 6,  7,  8,  9, 10, 11],\n",
       "       [12, 13, 14, 15, 16, 17],\n",
       "       [18, 19, 20, 21, 22, 23],\n",
       "       [24, 25, 26, 27, 28, 29]])"
      ]
     },
     "execution_count": 33,
     "metadata": {},
     "output_type": "execute_result"
    }
   ],
   "source": [
    "myNumpyArray.reshape(5,6)"
   ]
  },
  {
   "cell_type": "code",
   "execution_count": 34,
   "id": "21f6f041",
   "metadata": {},
   "outputs": [
    {
     "data": {
      "text/plain": [
       "29"
      ]
     },
     "execution_count": 34,
     "metadata": {},
     "output_type": "execute_result"
    }
   ],
   "source": [
    "myNumpyArray.max()"
   ]
  },
  {
   "cell_type": "code",
   "execution_count": 35,
   "id": "4fa2fb81",
   "metadata": {},
   "outputs": [
    {
     "data": {
      "text/plain": [
       "87"
      ]
     },
     "execution_count": 35,
     "metadata": {},
     "output_type": "execute_result"
    }
   ],
   "source": [
    "myNumpyRandomArray.max()"
   ]
  },
  {
   "cell_type": "code",
   "execution_count": 36,
   "id": "6f4f723f",
   "metadata": {},
   "outputs": [
    {
     "data": {
      "text/plain": [
       "1"
      ]
     },
     "execution_count": 36,
     "metadata": {},
     "output_type": "execute_result"
    }
   ],
   "source": [
    "myNumpyRandomArray.min()"
   ]
  },
  {
   "cell_type": "code",
   "execution_count": 37,
   "id": "d2dbd86a",
   "metadata": {},
   "outputs": [
    {
     "data": {
      "text/plain": [
       "9"
      ]
     },
     "execution_count": 37,
     "metadata": {},
     "output_type": "execute_result"
    }
   ],
   "source": [
    "myNumpyRandomArray.argmax()"
   ]
  },
  {
   "cell_type": "code",
   "execution_count": 38,
   "id": "3cdbf9e3",
   "metadata": {},
   "outputs": [
    {
     "data": {
      "text/plain": [
       "15"
      ]
     },
     "execution_count": 38,
     "metadata": {},
     "output_type": "execute_result"
    }
   ],
   "source": [
    "myNumpyRandomArray.argmin()"
   ]
  },
  {
   "cell_type": "code",
   "execution_count": 39,
   "id": "755e16b1",
   "metadata": {},
   "outputs": [
    {
     "data": {
      "text/plain": [
       "(30,)"
      ]
     },
     "execution_count": 39,
     "metadata": {},
     "output_type": "execute_result"
    }
   ],
   "source": [
    "myNumpyArray.shape"
   ]
  },
  {
   "cell_type": "code",
   "execution_count": null,
   "id": "7750b76c",
   "metadata": {},
   "outputs": [],
   "source": []
  }
 ],
 "metadata": {
  "kernelspec": {
   "display_name": "Python 3 (ipykernel)",
   "language": "python",
   "name": "python3"
  },
  "language_info": {
   "codemirror_mode": {
    "name": "ipython",
    "version": 3
   },
   "file_extension": ".py",
   "mimetype": "text/x-python",
   "name": "python",
   "nbconvert_exporter": "python",
   "pygments_lexer": "ipython3",
   "version": "3.9.13"
  }
 },
 "nbformat": 4,
 "nbformat_minor": 5
}
